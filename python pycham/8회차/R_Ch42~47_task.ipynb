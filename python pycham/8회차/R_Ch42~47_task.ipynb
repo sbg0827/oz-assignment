{
 "cells": [
  {
   "cell_type": "markdown",
   "metadata": {},
   "source": [
    "## [문제] 1\n",
    "\n",
    "'Person'이라는 클래스를 선언하세요. 이 클래스는 name (이름)과 age (나이) 두 개의 속성을 갖습니다.<br>\n",
    "\n",
    "그리고 'greet'라는 메소드를 갖고 있으며, 이 메소드는 \"안녕하세요, 제 이름은 [name]입니다. \n",
    "\n",
    "나이는 [age]살입니다.\"라는 메시지를 반환합니다.<br>\n",
    "이 클래스를 사용하여 '홍길동'이라는 이름과 20살의 나이를 가진 'Person' 객체를 생성하고, 'greet' 메소드를 호출하여 메시지를 출력하세요."
   ]
  },
  {
   "metadata": {
    "ExecuteTime": {
     "end_time": "2024-10-23T05:46:18.863106Z",
     "start_time": "2024-10-23T05:46:18.859117Z"
    }
   },
   "cell_type": "code",
   "source": [
    "# 정답 입력\n",
    "\n",
    "class Person:\n",
    "    def __init__(self, name, age):\n",
    "        self.name = name\n",
    "        self.age = age\n",
    "        \n",
    "    def greet(self):\n",
    "        return (f\"안녕하세요 제 이름은 {self.name}이고 나이는 {self.age}살 입니다\")\n",
    "    \n",
    "Person = Person(\"서백걸\",22)\n",
    "print(Person.greet())"
   ],
   "outputs": [
    {
     "name": "stdout",
     "output_type": "stream",
     "text": [
      "안녕하세요 제 이름은 서백걸이고 나이는 22살 입니다\n"
     ]
    }
   ],
   "execution_count": 5
  },
  {
   "cell_type": "markdown",
   "metadata": {},
   "source": []
  },
  {
   "metadata": {},
   "cell_type": "markdown",
   "source": [
    "## [문제] 2\n",
    "\n",
    "'Rectangle' 클래스를 작성하세요. \n",
    "\n",
    "이 클래스는 높이(height)와 너비(width)를 속성으로 가지며, 생성자(__init__)를 통해 이 두 속성을 초기화합니다. \n",
    "\n",
    "'area' 메소드를 추가하여 사각형의 면적을 계산하고 반환하도록 하세요. 높이가 10, 너비가 5인 사각형 객체를 생성하고,<br> \n",
    "이 객체를 사용하여 면적을 계산해 출력하세요."
   ]
  },
  {
   "metadata": {
    "ExecuteTime": {
     "end_time": "2024-10-23T05:50:19.965286Z",
     "start_time": "2024-10-23T05:50:19.961207Z"
    }
   },
   "cell_type": "code",
   "source": [
    "# 정답 입력\n",
    "\n",
    "class Rectangle:\n",
    "    def __init__(self, height, width):\n",
    "        self.height = height\n",
    "        self.width = width\n",
    "        \n",
    "    def area(self):\n",
    "        return self.width * self.height\n",
    "    \n",
    "rectangle = Rectangle(5,10)\n",
    "print(rectangle.area())"
   ],
   "outputs": [
    {
     "name": "stdout",
     "output_type": "stream",
     "text": [
      "50\n"
     ]
    }
   ],
   "execution_count": 6
  },
  {
   "metadata": {},
   "cell_type": "markdown",
   "source": [
    "## [문제] 3\n",
    "\n",
    "'Book' 클래스를 선언하세요. \n",
    "\n",
    "이 클래스는 title (제목)과 author (저자) 두 개의 속성을 갖습니다. \n",
    "\n",
    "__str__ 특수 메소드를 오버라이드하여, 객체를 문자열로 변환할 때 \"제목: [title], 저자: [author]\" 형식의 문자열을 반환하도록 하세요. \n",
    "\n",
    "'Book' 객체를 하나 생성하고, print 함수를 사용하여 해당 객체의 문자열 표현을 출력하세요."
   ]
  },
  {
   "metadata": {
    "ExecuteTime": {
     "end_time": "2024-10-23T05:57:53.045503Z",
     "start_time": "2024-10-23T05:57:53.041530Z"
    }
   },
   "cell_type": "code",
   "source": [
    "# 정답 입력\n",
    "\n",
    "class Book:\n",
    "    def __init__(self, title, author):\n",
    "        self.title = title\n",
    "        self.author = author\n",
    "    def __str__(self):\n",
    "        return (f\"제몰: {self.title}, 저자: {self.author}\")\n",
    "    \n",
    "book = Book(\"책먹는여우\", \"모름\")\n",
    "print (book)\n"
   ],
   "outputs": [
    {
     "name": "stdout",
     "output_type": "stream",
     "text": [
      "제몰: 책먹는여우, 저자: 모름\n"
     ]
    }
   ],
   "execution_count": 8
  },
  {
   "metadata": {},
   "cell_type": "markdown",
   "source": [
    "## [문제] 4\n",
    "\n",
    "'Employee' 클래스를 선언하세요. \n",
    "\n",
    "이 클래스는 월급인상률을 의미하는 클래스 변수로 'raise_amount'를 갖고 있으며, 기본값은 1.04입니다. 다음 급여는 기본 급여에 월급인상률을 곱한 값으로 결정합니다.\n",
    "\n",
    "또한, 각 직원의 이름(name)과 급여(salary)를 속성으로 가지며, 'apply_raise' 메소드를 통해 급여에 'raise_amount'를 적용할 수 있어야 합니다.\n",
    "\n",
    "'Employee' 클래스의 객체 두 개를 생성하고, 한 객체에만 'raise_amount'를 변경한 후, 두 객체의 급여를 증가시켜보세요.<br>\n",
    "그리고 각 객체의 새로운 급여를 출력하세요."
   ]
  },
  {
   "metadata": {
    "ExecuteTime": {
     "end_time": "2024-10-23T06:16:37.821859Z",
     "start_time": "2024-10-23T06:16:37.817671Z"
    }
   },
   "cell_type": "code",
   "source": [
    "# 정답 입력\n",
    "class Employee:\n",
    "    raise_amount = 1.04\n",
    "    \n",
    "    def __init__(self, name, salary):\n",
    "        self.name = name\n",
    "        self.salary = salary\n",
    "    def apply_raise(self):\n",
    "        self.salary = int(self.salary * self.raise_amount)\n",
    "        \n",
    "emp = Employee (\"직원\", 50000)\n",
    "\n",
    "Employee.raise_amount = 1.05\n",
    "emp.apply_raise()\n",
    "\n",
    "print(emp.salary)"
   ],
   "outputs": [
    {
     "name": "stdout",
     "output_type": "stream",
     "text": [
      "52500\n"
     ]
    }
   ],
   "execution_count": 15
  },
  {
   "metadata": {},
   "cell_type": "markdown",
   "source": [
    "## [문제] 5\n",
    "\n",
    "'Account' 클래스를 작성하세요. \n",
    "\n",
    "이 클래스는 소유자(owner)와 잔액(balance)을 속성으로 가지며, 잔액은 프라이빗 변수로 선언합니다. \n",
    "\n",
    "'deposit'와 'withdraw' 두 개의 메소드를 통해 잔액을 조작할 수 있도록 하세요. \n",
    "\n",
    "이 때, 잔액은 음수가 될 수 없도록 체크해야 합니다. 'Account' 객체를 생성하고,<br>\n",
    "입금 및 출금 작업을 시뮬레이션한 후, 최종 잔액을 출력하세요."
   ]
  },
  {
   "metadata": {
    "ExecuteTime": {
     "end_time": "2024-10-23T06:29:34.043574Z",
     "start_time": "2024-10-23T06:29:34.038023Z"
    }
   },
   "cell_type": "code",
   "source": [
    "# 정답 입력\n",
    "class Account:\n",
    "    def __init__(self, owner, balance=0):\n",
    "        self.owner = owner\n",
    "        self.__balance = balance\n",
    "    \n",
    "    def deposit(self, amount):\n",
    "        if amount > 0:\n",
    "            self.__balance += amount\n",
    "            print(\"입금 성공\")\n",
    "        else:\n",
    "            print(\"입금 실패\")\n",
    "    \n",
    "    def withdraw(self, amount):\n",
    "        if 0 < amount <= self.__balance:\n",
    "            self.__balance -= amount\n",
    "            print(\"출금 성공\")\n",
    "        else:\n",
    "            print(\"출금 실패\")\n",
    "    \n",
    "    def get_balance(self):\n",
    "        return self.__balance\n",
    "\n",
    "# 객체 생성 및 입출금 시뮬레이션\n",
    "account = Account(\"홍길동\", 1000)\n",
    "account.deposit(500)\n",
    "account.withdraw(300)\n",
    "print(account.get_balance())"
   ],
   "outputs": [
    {
     "name": "stdout",
     "output_type": "stream",
     "text": [
      "입금 성공\n",
      "출금 성공\n",
      "1200\n"
     ]
    }
   ],
   "execution_count": 16
  },
  {
   "metadata": {},
   "cell_type": "markdown",
   "source": [
    "## [문제] 6\n",
    "\n",
    "'Vehicle'이라는 기본 클래스를 선언하세요. \n",
    "\n",
    "이 클래스는 make (제조사)와 model (모델명) 두 개의 속성을 갖고, 생성자(__init__)를 통해 이 두 속성을 초기화합니다. 'display_info'라는 메소드를 추가하여, \"이 차량은 [make]에서 제조한 [model]입니다.\"라는 메시지를 반환하도록 하세요.\n",
    "\n",
    "'Truck'과 'Car' 두 개의 하위 클래스를 생성하고, 각 클래스는 'Vehicle' 클래스로부터 상속받습니다. \n",
    "\n",
    "'Truck' 클래스에는 추가로 'payload' (적재량) 속성을, 'Car' 클래스에는 'seats' (좌석 수) 속성을 추가합니다. 각각의 하위 클래스에서 'display_info' 메소드는 기본 클래스의 메소드를 그대로 사용합니다.\n",
    "\n",
    "'Truck'과 'Car' 객체 각각을 생성하고, 'display_info' 메소드를 호출하여 정보를 출력하세요. \n",
    "\n",
    "또한, 각 객체의 추가 속성(적재량, 좌석 수)에 대한 정보도 출력하세요.\n",
    "\n",
    "이 문제는 클래스의 상속 개념을 이해하고, 기본 클래스의 속성과 메소드를 하위 클래스가 어떻게 활용할 수 있는지 보여줍니다. \n",
    "\n",
    "오버라이드는 필요하지 않으며, 각 하위 클래스의 고유한 속성을 추가하는 방법에 초점을 맞춥니다."
   ]
  },
  {
   "metadata": {
    "ExecuteTime": {
     "end_time": "2024-10-23T06:39:37.781205Z",
     "start_time": "2024-10-23T06:39:37.774694Z"
    }
   },
   "cell_type": "code",
   "source": [
    "# 정답 입력\n",
    "# 기본 클래스 선언\n",
    "class Vehicle:\n",
    "    def __init__(self, make, model):\n",
    "        self.make = make  # 제조사 속성\n",
    "        self.model = model  # 모델명 속성\n",
    "\n",
    "    def display_info(self):\n",
    "        return f\"이 차량은 {self.make}에서 제조한 {self.model}입니다.\"\n",
    "\n",
    "# Truck 하위 클래스 선언 (Vehicle 클래스 상속)\n",
    "class Truck(Vehicle):\n",
    "    def __init__(self, make, model, payload):\n",
    "        super().__init__(make, model)  # Vehicle 클래스의 생성자 호출\n",
    "        self.payload = payload  # 적재량 속성 추가\n",
    "\n",
    "# Car 하위 클래스 선언 (Vehicle 클래스 상속)\n",
    "class Car(Vehicle):\n",
    "    def __init__(self, make, model, seats):\n",
    "        super().__init__(make, model)  # Vehicle 클래스의 생성자 호출\n",
    "        self.seats = seats  # 좌석 수 속성 추가\n",
    "\n",
    "# Truck 객체 생성\n",
    "truck = Truck(\"Hyundai\", \"Porter\", 1000)\n",
    "\n",
    "# Car 객체 생성\n",
    "car = Car(\"Toyota\", \"Camry\", 5)\n",
    "\n",
    "# Truck 객체의 정보 출력\n",
    "print(truck.display_info())  # 기본 클래스 메소드 사용\n",
    "print(f\"적재량: {truck.payload}kg\")  # Truck 고유 속성 출력\n",
    "\n",
    "# Car 객체의 정보 출력\n",
    "print(car.display_info())  # 기본 클래스 메소드 사용\n",
    "print(f\"좌석 수: {car.seats}개\")  # Car 고유 속성 출력\n"
   ],
   "outputs": [
    {
     "name": "stdout",
     "output_type": "stream",
     "text": [
      "이 차량은 Hyundai에서 제조한 Porter입니다.\n",
      "적재량: 1000kg\n",
      "이 차량은 Toyota에서 제조한 Camry입니다.\n",
      "좌석 수: 5개\n"
     ]
    }
   ],
   "execution_count": 17
  },
  {
   "metadata": {
    "ExecuteTime": {
     "end_time": "2024-10-21T07:50:48.746553Z",
     "start_time": "2024-10-21T07:50:48.745339Z"
    }
   },
   "cell_type": "code",
   "source": "",
   "outputs": [],
   "execution_count": null
  }
 ],
 "metadata": {
  "language_info": {
   "name": "python"
  },
  "kernelspec": {
   "name": "python3",
   "language": "python",
   "display_name": "Python 3 (ipykernel)"
  }
 },
 "nbformat": 4,
 "nbformat_minor": 2
}
