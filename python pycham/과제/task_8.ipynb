{
 "cells": [
  {
   "cell_type": "markdown",
   "metadata": {},
   "source": [
    "여러분이 자주 사용하는 수학적 연산<br>\n",
    "(예: 삼각형 넓이, 원의 넓이, 직육면체의 넓이)을 수행하는 함수들을 포함하는 mymath.py라는 이름의 모듈을 만드세요. \n",
    "\n",
    "이 모듈을 사용하여 작성된 함수들을 실제로 임포트하고 사용하는 간단한 프로그램을 작성하세요."
   ]
  },
  {
   "metadata": {
    "ExecuteTime": {
     "end_time": "2024-10-22T07:40:52.158187Z",
     "start_time": "2024-10-22T07:40:52.134721Z"
    }
   },
   "cell_type": "code",
   "source": [
    "# mymath.py 파일에서 정의된 함수들을 가져옵니다.\n",
    "from mymath import triangle_area, circle_area, cuboid_area\n",
    "\n",
    "# 삼각형 넓이 계산\n",
    "base = 3\n",
    "height = 10\n",
    "print(f\"삼각형의 넓이: {triangle_area(base, height)}\")\n",
    "\n",
    "# 원의 넓이 계산\n",
    "radius = 4\n",
    "print(f\"원의 넓이: {circle_area(radius)}\")\n",
    "\n",
    "# 직육면체의 겉넓이 계산\n",
    "length = 5\n",
    "width = 10\n",
    "cuboid_height = 4\n",
    "print(f\"직육면체의 겉넓이: {cuboid_area(length, width, cuboid_height)}\")\n"
   ],
   "outputs": [
    {
     "name": "stdout",
     "output_type": "stream",
     "text": [
      "삼각형의 넓이: 15.0\n"
     ]
    },
    {
     "ename": "NameError",
     "evalue": "name 'math' is not defined",
     "output_type": "error",
     "traceback": [
      "\u001B[0;31m---------------------------------------------------------------------------\u001B[0m",
      "\u001B[0;31mNameError\u001B[0m                                 Traceback (most recent call last)",
      "Cell \u001B[0;32mIn[11], line 11\u001B[0m\n\u001B[1;32m      9\u001B[0m \u001B[38;5;66;03m# 원의 넓이 계산\u001B[39;00m\n\u001B[1;32m     10\u001B[0m radius \u001B[38;5;241m=\u001B[39m \u001B[38;5;241m4\u001B[39m\n\u001B[0;32m---> 11\u001B[0m \u001B[38;5;28mprint\u001B[39m(\u001B[38;5;124mf\u001B[39m\u001B[38;5;124m\"\u001B[39m\u001B[38;5;124m원의 넓이: \u001B[39m\u001B[38;5;132;01m{\u001B[39;00m\u001B[43mcircle_area\u001B[49m\u001B[43m(\u001B[49m\u001B[43mradius\u001B[49m\u001B[43m)\u001B[49m\u001B[38;5;132;01m}\u001B[39;00m\u001B[38;5;124m\"\u001B[39m)\n\u001B[1;32m     13\u001B[0m \u001B[38;5;66;03m# 직육면체의 겉넓이 계산\u001B[39;00m\n\u001B[1;32m     14\u001B[0m length \u001B[38;5;241m=\u001B[39m \u001B[38;5;241m5\u001B[39m\n",
      "File \u001B[0;32m~/Desktop/oz_assignment/python pycham/과제/mymath.py:5\u001B[0m, in \u001B[0;36mcircle_area\u001B[0;34m(radius)\u001B[0m\n\u001B[1;32m      4\u001B[0m \u001B[38;5;28;01mdef\u001B[39;00m \u001B[38;5;21mcircle_area\u001B[39m(radius):\n\u001B[0;32m----> 5\u001B[0m     \u001B[38;5;28;01mreturn\u001B[39;00m \u001B[43mmath\u001B[49m\u001B[38;5;241m.\u001B[39mpi \u001B[38;5;241m*\u001B[39m radius \u001B[38;5;241m*\u001B[39m\u001B[38;5;241m*\u001B[39m \u001B[38;5;241m2\u001B[39m\n",
      "\u001B[0;31mNameError\u001B[0m: name 'math' is not defined"
     ]
    }
   ],
   "execution_count": 11
  },
  {
   "cell_type": "markdown",
   "metadata": {},
   "source": []
  }
 ],
 "metadata": {
  "language_info": {
   "name": "python"
  },
  "kernelspec": {
   "name": "python3",
   "language": "python",
   "display_name": "Python 3 (ipykernel)"
  }
 },
 "nbformat": 4,
 "nbformat_minor": 2
}
